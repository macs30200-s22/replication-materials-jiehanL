{
 "cells": [
  {
   "cell_type": "markdown",
   "id": "6e135092",
   "metadata": {},
   "source": [
    "### Step 1: Import Packages"
   ]
  },
  {
   "cell_type": "code",
   "execution_count": 301,
   "id": "641fff4b",
   "metadata": {},
   "outputs": [],
   "source": [
    "import numpy as np \n",
    "import pandas as pd\n",
    "import seaborn as sns\n",
    "import sklearn\n",
    "from matplotlib import pyplot as plt\n",
    "from sklearn.model_selection import train_test_split\n",
    "from sklearn.linear_model import LogisticRegression\n",
    "from sklearn.ensemble import GradientBoostingClassifier\n",
    "from sklearn.tree import DecisionTreeClassifier\n",
    "from sklearn.svm import LinearSVC\n",
    "from sklearn.model_selection import GridSearchCV, cross_val_score, learning_curve, train_test_split\n",
    "from sklearn import pipeline\n",
    "from sklearn.metrics import classification_report,confusion_matrix,f1_score,RocCurveDisplay\n",
    "from sklearn.feature_extraction.text import CountVectorizer,TfidfVectorizer\n",
    "from sklearn.feature_extraction.text import TfidfTransformer\n",
    "from sklearn.naive_bayes import MultinomialNB"
   ]
  },
  {
   "cell_type": "markdown",
   "id": "9958f227",
   "metadata": {},
   "source": [
    "### Step2: load and check data"
   ]
  },
  {
   "cell_type": "code",
   "execution_count": 251,
   "id": "b10713d6",
   "metadata": {},
   "outputs": [],
   "source": [
    "data_df = pd.read_csv(\"bots_trainingdata.csv\")"
   ]
  },
  {
   "cell_type": "code",
   "execution_count": 252,
   "id": "d55344f7",
   "metadata": {},
   "outputs": [
    {
     "data": {
      "text/html": [
       "<div>\n",
       "<style scoped>\n",
       "    .dataframe tbody tr th:only-of-type {\n",
       "        vertical-align: middle;\n",
       "    }\n",
       "\n",
       "    .dataframe tbody tr th {\n",
       "        vertical-align: top;\n",
       "    }\n",
       "\n",
       "    .dataframe thead th {\n",
       "        text-align: right;\n",
       "    }\n",
       "</style>\n",
       "<table border=\"1\" class=\"dataframe\">\n",
       "  <thead>\n",
       "    <tr style=\"text-align: right;\">\n",
       "      <th></th>\n",
       "      <th>Unnamed: 0</th>\n",
       "      <th>userid</th>\n",
       "      <th>twid</th>\n",
       "      <th>lemma</th>\n",
       "      <th>num_tw</th>\n",
       "      <th>bots</th>\n",
       "    </tr>\n",
       "  </thead>\n",
       "  <tbody>\n",
       "    <tr>\n",
       "      <th>0</th>\n",
       "      <td>1</td>\n",
       "      <td>2438710884</td>\n",
       "      <td>563056362608164865</td>\n",
       "      <td>всегда готовый мы же путин с молоко мать приуч...</td>\n",
       "      <td>264</td>\n",
       "      <td>1</td>\n",
       "    </tr>\n",
       "    <tr>\n",
       "      <th>1</th>\n",
       "      <td>2</td>\n",
       "      <td>2721957062</td>\n",
       "      <td>562902424437153792</td>\n",
       "      <td>RT почему б немцов не написать на сайт эхо о н...</td>\n",
       "      <td>2257</td>\n",
       "      <td>1</td>\n",
       "    </tr>\n",
       "    <tr>\n",
       "      <th>2</th>\n",
       "      <td>3</td>\n",
       "      <td>545362046</td>\n",
       "      <td>562900111970562049</td>\n",
       "      <td>RT путин призывать твердо противостоять попытк...</td>\n",
       "      <td>832</td>\n",
       "      <td>1</td>\n",
       "    </tr>\n",
       "    <tr>\n",
       "      <th>3</th>\n",
       "      <td>4</td>\n",
       "      <td>1950819048</td>\n",
       "      <td>562970994047201283</td>\n",
       "      <td>RT путин требовать возвращать отменять электри...</td>\n",
       "      <td>218</td>\n",
       "      <td>1</td>\n",
       "    </tr>\n",
       "    <tr>\n",
       "      <th>4</th>\n",
       "      <td>5</td>\n",
       "      <td>2833566787</td>\n",
       "      <td>562970103705534466</td>\n",
       "      <td>RT владимир путин подписывать закон о ратифика...</td>\n",
       "      <td>728</td>\n",
       "      <td>1</td>\n",
       "    </tr>\n",
       "    <tr>\n",
       "      <th>...</th>\n",
       "      <td>...</td>\n",
       "      <td>...</td>\n",
       "      <td>...</td>\n",
       "      <td>...</td>\n",
       "      <td>...</td>\n",
       "      <td>...</td>\n",
       "    </tr>\n",
       "    <tr>\n",
       "      <th>193322</th>\n",
       "      <td>193323</td>\n",
       "      <td>2346532627</td>\n",
       "      <td>1090949689422299137</td>\n",
       "      <td>RT путин потребовать от васильева следить за у...</td>\n",
       "      <td>2415</td>\n",
       "      <td>1</td>\n",
       "    </tr>\n",
       "    <tr>\n",
       "      <th>193323</th>\n",
       "      <td>193324</td>\n",
       "      <td>602150540</td>\n",
       "      <td>1090888970416898048</td>\n",
       "      <td>RT писать что арест арашуков санкционировать л...</td>\n",
       "      <td>6255</td>\n",
       "      <td>1</td>\n",
       "    </tr>\n",
       "    <tr>\n",
       "      <th>193324</th>\n",
       "      <td>193325</td>\n",
       "      <td>280865799</td>\n",
       "      <td>1090820483266818048</td>\n",
       "      <td>RT крикливый оппозиция притихать перед они неп...</td>\n",
       "      <td>1562</td>\n",
       "      <td>1</td>\n",
       "    </tr>\n",
       "    <tr>\n",
       "      <th>193325</th>\n",
       "      <td>193326</td>\n",
       "      <td>623252874</td>\n",
       "      <td>1091109811687776256</td>\n",
       "      <td>RT путин про украинский церковь спекуляция пол...</td>\n",
       "      <td>6497</td>\n",
       "      <td>1</td>\n",
       "    </tr>\n",
       "    <tr>\n",
       "      <th>193326</th>\n",
       "      <td>193327</td>\n",
       "      <td>489461115</td>\n",
       "      <td>1091065633385705473</td>\n",
       "      <td>странно викуля что на ты на валентинка да и на...</td>\n",
       "      <td>971</td>\n",
       "      <td>1</td>\n",
       "    </tr>\n",
       "  </tbody>\n",
       "</table>\n",
       "<p>193327 rows × 6 columns</p>\n",
       "</div>"
      ],
      "text/plain": [
       "        Unnamed: 0      userid                 twid  \\\n",
       "0                1  2438710884   563056362608164865   \n",
       "1                2  2721957062   562902424437153792   \n",
       "2                3   545362046   562900111970562049   \n",
       "3                4  1950819048   562970994047201283   \n",
       "4                5  2833566787   562970103705534466   \n",
       "...            ...         ...                  ...   \n",
       "193322      193323  2346532627  1090949689422299137   \n",
       "193323      193324   602150540  1090888970416898048   \n",
       "193324      193325   280865799  1090820483266818048   \n",
       "193325      193326   623252874  1091109811687776256   \n",
       "193326      193327   489461115  1091065633385705473   \n",
       "\n",
       "                                                    lemma  num_tw  bots  \n",
       "0       всегда готовый мы же путин с молоко мать приуч...     264     1  \n",
       "1       RT почему б немцов не написать на сайт эхо о н...    2257     1  \n",
       "2       RT путин призывать твердо противостоять попытк...     832     1  \n",
       "3       RT путин требовать возвращать отменять электри...     218     1  \n",
       "4       RT владимир путин подписывать закон о ратифика...     728     1  \n",
       "...                                                   ...     ...   ...  \n",
       "193322  RT путин потребовать от васильева следить за у...    2415     1  \n",
       "193323  RT писать что арест арашуков санкционировать л...    6255     1  \n",
       "193324  RT крикливый оппозиция притихать перед они неп...    1562     1  \n",
       "193325  RT путин про украинский церковь спекуляция пол...    6497     1  \n",
       "193326  странно викуля что на ты на валентинка да и на...     971     1  \n",
       "\n",
       "[193327 rows x 6 columns]"
      ]
     },
     "execution_count": 252,
     "metadata": {},
     "output_type": "execute_result"
    }
   ],
   "source": [
    "data_df"
   ]
  },
  {
   "cell_type": "code",
   "execution_count": 253,
   "id": "7fc549bc",
   "metadata": {},
   "outputs": [
    {
     "data": {
      "text/plain": [
       "Unnamed: 0     0\n",
       "userid         0\n",
       "twid           0\n",
       "lemma         63\n",
       "num_tw         0\n",
       "bots           0\n",
       "dtype: int64"
      ]
     },
     "execution_count": 253,
     "metadata": {},
     "output_type": "execute_result"
    }
   ],
   "source": [
    "data_df.isna().sum()"
   ]
  },
  {
   "cell_type": "code",
   "execution_count": 254,
   "id": "d0ae5d1d",
   "metadata": {},
   "outputs": [],
   "source": [
    "data.dropna(inplace=True,axis=0)"
   ]
  },
  {
   "cell_type": "markdown",
   "id": "95835f58",
   "metadata": {},
   "source": [
    "### Step3: train/test spliting "
   ]
  },
  {
   "cell_type": "code",
   "execution_count": 255,
   "id": "58a86b54",
   "metadata": {},
   "outputs": [],
   "source": [
    "X_data = data.drop([\"bots\"],axis =1)\n",
    "y_data = data[\"bots\"]"
   ]
  },
  {
   "cell_type": "code",
   "execution_count": 256,
   "id": "2209b8ea",
   "metadata": {},
   "outputs": [
    {
     "data": {
      "text/html": [
       "<div>\n",
       "<style scoped>\n",
       "    .dataframe tbody tr th:only-of-type {\n",
       "        vertical-align: middle;\n",
       "    }\n",
       "\n",
       "    .dataframe tbody tr th {\n",
       "        vertical-align: top;\n",
       "    }\n",
       "\n",
       "    .dataframe thead th {\n",
       "        text-align: right;\n",
       "    }\n",
       "</style>\n",
       "<table border=\"1\" class=\"dataframe\">\n",
       "  <thead>\n",
       "    <tr style=\"text-align: right;\">\n",
       "      <th></th>\n",
       "      <th>Unnamed: 0</th>\n",
       "      <th>userid</th>\n",
       "      <th>twid</th>\n",
       "      <th>lemma</th>\n",
       "      <th>num_tw</th>\n",
       "    </tr>\n",
       "  </thead>\n",
       "  <tbody>\n",
       "    <tr>\n",
       "      <th>186649</th>\n",
       "      <td>186650</td>\n",
       "      <td>386438418</td>\n",
       "      <td>1032531742975045632</td>\n",
       "      <td>RT михеев совершенно точно уверенный что как т...</td>\n",
       "      <td>2916</td>\n",
       "    </tr>\n",
       "    <tr>\n",
       "      <th>117992</th>\n",
       "      <td>117993</td>\n",
       "      <td>754685830426398720</td>\n",
       "      <td>793395157693526016</td>\n",
       "      <td>Экстренное обращение к учёным всего мира … … #...</td>\n",
       "      <td>22</td>\n",
       "    </tr>\n",
       "    <tr>\n",
       "      <th>180790</th>\n",
       "      <td>180791</td>\n",
       "      <td>3351885376</td>\n",
       "      <td>990267496757383169</td>\n",
       "      <td>RT май дом профсоюз он сам загораться так мы с...</td>\n",
       "      <td>987</td>\n",
       "    </tr>\n",
       "    <tr>\n",
       "      <th>60355</th>\n",
       "      <td>60356</td>\n",
       "      <td>2931914963</td>\n",
       "      <td>776397663180840960</td>\n",
       "      <td>#сша #украина #крым #рф</td>\n",
       "      <td>549</td>\n",
       "    </tr>\n",
       "    <tr>\n",
       "      <th>143360</th>\n",
       "      <td>143361</td>\n",
       "      <td>1419823400</td>\n",
       "      <td>802065644833374208</td>\n",
       "      <td>#ОливерСтоун поверил #Януковичу  #Украина #Ша...</td>\n",
       "      <td>649</td>\n",
       "    </tr>\n",
       "    <tr>\n",
       "      <th>...</th>\n",
       "      <td>...</td>\n",
       "      <td>...</td>\n",
       "      <td>...</td>\n",
       "      <td>...</td>\n",
       "      <td>...</td>\n",
       "    </tr>\n",
       "    <tr>\n",
       "      <th>119926</th>\n",
       "      <td>119927</td>\n",
       "      <td>1610483024</td>\n",
       "      <td>794178459627122688</td>\n",
       "      <td>MailRu Group и Moat сделают российский рекламн...</td>\n",
       "      <td>140</td>\n",
       "    </tr>\n",
       "    <tr>\n",
       "      <th>103740</th>\n",
       "      <td>103741</td>\n",
       "      <td>741274201118658560</td>\n",
       "      <td>789046640741060608</td>\n",
       "      <td>Москалькова омбудсмен Украины реагирует  #Укра...</td>\n",
       "      <td>728</td>\n",
       "    </tr>\n",
       "    <tr>\n",
       "      <th>131979</th>\n",
       "      <td>131980</td>\n",
       "      <td>2901798998</td>\n",
       "      <td>798088098827468800</td>\n",
       "      <td>Развитая финансовая система  #США #ЦенныеБумаг...</td>\n",
       "      <td>72</td>\n",
       "    </tr>\n",
       "    <tr>\n",
       "      <th>146914</th>\n",
       "      <td>146915</td>\n",
       "      <td>4282038935</td>\n",
       "      <td>804327784403337216</td>\n",
       "      <td>RT упоминать некий страна потерять суверенитет...</td>\n",
       "      <td>1659</td>\n",
       "    </tr>\n",
       "    <tr>\n",
       "      <th>122005</th>\n",
       "      <td>122006</td>\n",
       "      <td>1031241967</td>\n",
       "      <td>794776605382033408</td>\n",
       "      <td>скоро путин оба памятник владимир объединять п...</td>\n",
       "      <td>714</td>\n",
       "    </tr>\n",
       "  </tbody>\n",
       "</table>\n",
       "<p>135284 rows × 5 columns</p>\n",
       "</div>"
      ],
      "text/plain": [
       "        Unnamed: 0              userid                 twid  \\\n",
       "186649      186650           386438418  1032531742975045632   \n",
       "117992      117993  754685830426398720   793395157693526016   \n",
       "180790      180791          3351885376   990267496757383169   \n",
       "60355        60356          2931914963   776397663180840960   \n",
       "143360      143361          1419823400   802065644833374208   \n",
       "...            ...                 ...                  ...   \n",
       "119926      119927          1610483024   794178459627122688   \n",
       "103740      103741  741274201118658560   789046640741060608   \n",
       "131979      131980          2901798998   798088098827468800   \n",
       "146914      146915          4282038935   804327784403337216   \n",
       "122005      122006          1031241967   794776605382033408   \n",
       "\n",
       "                                                    lemma  num_tw  \n",
       "186649  RT михеев совершенно точно уверенный что как т...    2916  \n",
       "117992  Экстренное обращение к учёным всего мира … … #...      22  \n",
       "180790  RT май дом профсоюз он сам загораться так мы с...     987  \n",
       "60355                             #сша #украина #крым #рф     549  \n",
       "143360   #ОливерСтоун поверил #Януковичу  #Украина #Ша...     649  \n",
       "...                                                   ...     ...  \n",
       "119926  MailRu Group и Moat сделают российский рекламн...     140  \n",
       "103740  Москалькова омбудсмен Украины реагирует  #Укра...     728  \n",
       "131979  Развитая финансовая система  #США #ЦенныеБумаг...      72  \n",
       "146914  RT упоминать некий страна потерять суверенитет...    1659  \n",
       "122005  скоро путин оба памятник владимир объединять п...     714  \n",
       "\n",
       "[135284 rows x 5 columns]"
      ]
     },
     "execution_count": 256,
     "metadata": {},
     "output_type": "execute_result"
    }
   ],
   "source": [
    "X_train, X_test, y_train, y_test = train_test_split(X_data, y_data,test_size =0.3,random_state=42)\n",
    "X_train"
   ]
  },
  {
   "cell_type": "markdown",
   "id": "c78f1083",
   "metadata": {},
   "source": [
    "### Step4: feature extraction "
   ]
  },
  {
   "cell_type": "code",
   "execution_count": 239,
   "id": "eed52e7e",
   "metadata": {},
   "outputs": [],
   "source": [
    "## tf-idf feature \n",
    "tfidf_vect = TfidfVectorizer(analyzer='word', token_pattern=r'\\w{1,}', max_features=5000)\n",
    "xtrain_tfidf =  tfidf_vect.fit_transform(X_train['lemma'])\n",
    "xtest_tfidf =  tfidf_vect.fit_transform(X_test['lemma'])\n",
    "\n",
    "## add number of tweets per user as features \n",
    "xtrain_tfidf = np.hstack((xtrain_tfidf , np.array(X_train['num_tw'])[:,None].reshape(-1)))\n",
    "xtrain_tfidf = xtrain_tfidf[0]\n",
    "xtest_tfidf = np.hstack((xtest_tfidf , np.array(X_test['num_tw'])[:,None].reshape(-1)))\n",
    "xtest_tfidf = xtest_tfidf[0]\n"
   ]
  },
  {
   "cell_type": "markdown",
   "id": "7b2f91b9",
   "metadata": {},
   "source": [
    "### Step5: model training"
   ]
  },
  {
   "cell_type": "code",
   "execution_count": 261,
   "id": "aa2c15bf",
   "metadata": {},
   "outputs": [],
   "source": [
    "from sklearn.linear_model import SGDClassifier\n",
    "\n",
    "models = [LogisticRegression(solver='lbfgs', max_iter=100),\n",
    "         DecisionTreeClassifier(),\n",
    "         #RandomForestClassifier(n_estimators = 100, max_features=3),\n",
    "         LinearSVC(dual=False,max_iter=100,),\n",
    "         GradientBoostingClassifier(),\n",
    "         SGDClassifier(loss='hinge', penalty='l2')]\n",
    "\n",
    "CV = 10\n",
    "cv_df = pd.DataFrame(index=range(CV * len(models)))\n",
    "entries = []\n",
    "for model in models:\n",
    "    model_name = model.__class__.__name__\n",
    "    accuracies = cross_val_score(model, xtrain_tfidf, y_train, scoring='accuracy', cv=CV)\n",
    "    for fold_idx, accuracy in enumerate(accuracies):\n",
    "        entries.append((model_name, fold_idx, accuracy))\n",
    "cv_df = pd.DataFrame(entries, columns=['model_name', 'fold_idx', 'accuracy'])"
   ]
  },
  {
   "cell_type": "code",
   "execution_count": 262,
   "id": "6da2f725",
   "metadata": {},
   "outputs": [
    {
     "data": {
      "text/plain": [
       "[Text(0, 0, 'LG'),\n",
       " Text(1, 0, 'DTC'),\n",
       " Text(2, 0, 'LSVC'),\n",
       " Text(3, 0, 'GBC'),\n",
       " Text(4, 0, 'SGD')]"
      ]
     },
     "execution_count": 262,
     "metadata": {},
     "output_type": "execute_result"
    },
    {
     "data": {
      "image/png": "[encoded data removed]",
      "text/plain": [
       "<Figure size 432x288 with 1 Axes>"
      ]
     },
     "metadata": {
      "needs_background": "light"
     },
     "output_type": "display_data"
    }
   ],
   "source": [
    "g = sns.boxplot(x='model_name', y='accuracy', data=cv_df)\n",
    "g = sns.stripplot(x='model_name', y='accuracy', data=cv_df,\n",
    "              size=8, jitter=True, edgecolor=\"gray\", linewidth=2)\n",
    "g.set_xticklabels(['LG','DTC','LSVC','GBC','SGD'])"
   ]
  },
  {
   "cell_type": "code",
   "execution_count": 268,
   "id": "0d2ebaae",
   "metadata": {},
   "outputs": [
    {
     "data": {
      "text/plain": [
       "dict_keys(['C', 'class_weight', 'dual', 'fit_intercept', 'intercept_scaling', 'loss', 'max_iter', 'multi_class', 'penalty', 'random_state', 'tol', 'verbose'])"
      ]
     },
     "execution_count": 268,
     "metadata": {},
     "output_type": "execute_result"
    }
   ],
   "source": [
    "LinearSVC().get_params().keys()"
   ]
  },
  {
   "cell_type": "markdown",
   "id": "5f9e1974",
   "metadata": {},
   "source": [
    "### step6: parameter tuning and fit"
   ]
  },
  {
   "cell_type": "code",
   "execution_count": 272,
   "id": "1e81acfe",
   "metadata": {},
   "outputs": [
    {
     "name": "stderr",
     "output_type": "stream",
     "text": [
      "/Users/jarvis/opt/anaconda3/lib/python3.8/site-packages/sklearn/model_selection/_validation.py:372: FitFailedWarning: \n",
      "30 fits failed out of a total of 60.\n",
      "The score on these train-test partitions for these parameters will be set to nan.\n",
      "If these failures are not expected, you can try to debug them by setting error_score='raise'.\n",
      "\n",
      "Below are more details about the failures:\n",
      "--------------------------------------------------------------------------------\n",
      "30 fits failed with the following error:\n",
      "Traceback (most recent call last):\n",
      "  File \"/Users/jarvis/opt/anaconda3/lib/python3.8/site-packages/sklearn/model_selection/_validation.py\", line 680, in _fit_and_score\n",
      "    estimator.fit(X_train, y_train, **fit_params)\n",
      "  File \"/Users/jarvis/opt/anaconda3/lib/python3.8/site-packages/sklearn/pipeline.py\", line 394, in fit\n",
      "    self._final_estimator.fit(Xt, y, **fit_params_last_step)\n",
      "  File \"/Users/jarvis/opt/anaconda3/lib/python3.8/site-packages/sklearn/svm/_classes.py\", line 257, in fit\n",
      "    self.coef_, self.intercept_, self.n_iter_ = _fit_liblinear(\n",
      "  File \"/Users/jarvis/opt/anaconda3/lib/python3.8/site-packages/sklearn/svm/_base.py\", line 1185, in _fit_liblinear\n",
      "    solver_type = _get_liblinear_solver_type(multi_class, penalty, loss, dual)\n",
      "  File \"/Users/jarvis/opt/anaconda3/lib/python3.8/site-packages/sklearn/svm/_base.py\", line 1024, in _get_liblinear_solver_type\n",
      "    raise ValueError(\n",
      "ValueError: Unsupported set of arguments: The combination of penalty='l1' and loss='squared_hinge' are not supported when dual=True, Parameters: penalty='l1', loss='squared_hinge', dual=True\n",
      "\n",
      "  warnings.warn(some_fits_failed_message, FitFailedWarning)\n",
      "/Users/jarvis/opt/anaconda3/lib/python3.8/site-packages/sklearn/model_selection/_search.py:969: UserWarning: One or more of the test scores are non-finite: [       nan 0.98877177        nan 0.98877177        nan 0.98731557\n",
      "        nan 0.98735992        nan 0.98298392        nan 0.98405575]\n",
      "  warnings.warn(\n"
     ]
    },
    {
     "name": "stdout",
     "output_type": "stream",
     "text": [
      "Best score: 0.989\n",
      "Best parameters set:\n",
      "\tsvc__C: 1\n",
      "\tsvc__max_iter: 100\n",
      "\tsvc__penalty: 'l2'\n"
     ]
    }
   ],
   "source": [
    "SVC_model = LinearSVC()\n",
    "clf = pipeline.Pipeline([('svc', SVC_model)])\n",
    "\n",
    "\n",
    "# set parameter\n",
    "param_grid = {'svc__C': [1, 10, 100], \n",
    "              'svc__max_iter': [100,1000],\n",
    "              'svc__penalty': ['l1','l2']}\n",
    "\n",
    "# Grid Search Model init\n",
    "model = GridSearchCV(estimator=clf, param_grid=param_grid, scoring='accuracy', n_jobs=-1, refit=True)\n",
    "\n",
    "# fit grid search model\n",
    "model.fit(xtrain_tfidf, y_train)\n",
    "print(\"Best score: %0.3f\" % model.best_score_)\n",
    "print(\"Best parameters set:\")\n",
    "best_parameters = model.best_estimator_.get_params()\n",
    "for param_name in sorted(param_grid.keys()):\n",
    "    print(\"\\t%s: %r\" % (param_name, best_parameters[param_name]))\n",
    "xgboost_std_best_parameters = best_parameters\n"
   ]
  },
  {
   "cell_type": "code",
   "execution_count": 273,
   "id": "a4659fee",
   "metadata": {},
   "outputs": [
    {
     "name": "stdout",
     "output_type": "stream",
     "text": [
      "              precision    recall  f1-score   support\n",
      "\n",
      "           0       0.60      0.66      0.62     27785\n",
      "           1       0.65      0.59      0.62     30195\n",
      "\n",
      "    accuracy                           0.62     57980\n",
      "   macro avg       0.62      0.62      0.62     57980\n",
      "weighted avg       0.63      0.62      0.62     57980\n",
      "\n"
     ]
    }
   ],
   "source": [
    "model = LinearSVC(dual=False,max_iter=100,C=1,penalty='l2')\n",
    "model.fit(xtrain_tfidf, y_train)\n",
    "y_pred = model.predict(xtest_tfidf)\n",
    "print(classification_report(y_test, y_pred))"
   ]
  },
  {
   "cell_type": "markdown",
   "id": "cd2edae1",
   "metadata": {},
   "source": [
    "The accuracy on training data is .99 but on testing data is .62, suggest an overfitting problem. I will use this result as benchmark and train on BERT-deep learning model latter this week. "
   ]
  },
  {
   "cell_type": "code",
   "execution_count": 283,
   "id": "076d84dc",
   "metadata": {},
   "outputs": [],
   "source": [
    "train = pd.read_csv(\"bots_testing.csv\")"
   ]
  },
  {
   "cell_type": "code",
   "execution_count": 284,
   "id": "27f5125a",
   "metadata": {},
   "outputs": [
    {
     "data": {
      "text/html": [
       "<div>\n",
       "<style scoped>\n",
       "    .dataframe tbody tr th:only-of-type {\n",
       "        vertical-align: middle;\n",
       "    }\n",
       "\n",
       "    .dataframe tbody tr th {\n",
       "        vertical-align: top;\n",
       "    }\n",
       "\n",
       "    .dataframe thead th {\n",
       "        text-align: right;\n",
       "    }\n",
       "</style>\n",
       "<table border=\"1\" class=\"dataframe\">\n",
       "  <thead>\n",
       "    <tr style=\"text-align: right;\">\n",
       "      <th></th>\n",
       "      <th>Unnamed: 0</th>\n",
       "      <th>userid</th>\n",
       "      <th>twid</th>\n",
       "      <th>date</th>\n",
       "      <th>lemma</th>\n",
       "      <th>num_tw</th>\n",
       "    </tr>\n",
       "  </thead>\n",
       "  <tbody>\n",
       "    <tr>\n",
       "      <th>0</th>\n",
       "      <td>1</td>\n",
       "      <td>361219865</td>\n",
       "      <td>164056320016781312</td>\n",
       "      <td>2012-01-30</td>\n",
       "      <td>#Владимир #Путин #Приморский край Федерация пр...</td>\n",
       "      <td>160</td>\n",
       "    </tr>\n",
       "    <tr>\n",
       "      <th>1</th>\n",
       "      <td>2</td>\n",
       "      <td>348949045</td>\n",
       "      <td>164054357061537792</td>\n",
       "      <td>2012-01-30</td>\n",
       "      <td>#Владимир #Путин #Москва Путин  Take A Look Ar...</td>\n",
       "      <td>7</td>\n",
       "    </tr>\n",
       "    <tr>\n",
       "      <th>2</th>\n",
       "      <td>3</td>\n",
       "      <td>361973430</td>\n",
       "      <td>163934516925317120</td>\n",
       "      <td>2012-01-30</td>\n",
       "      <td>#владимир #россия Нтаталия 27 Женщина есть жен...</td>\n",
       "      <td>20336</td>\n",
       "    </tr>\n",
       "    <tr>\n",
       "      <th>3</th>\n",
       "      <td>4</td>\n",
       "      <td>209135296</td>\n",
       "      <td>163930884087615488</td>\n",
       "      <td>2012-01-30</td>\n",
       "      <td>Во #Владимир опять рвутся трубы две аварии в п...</td>\n",
       "      <td>10</td>\n",
       "    </tr>\n",
       "    <tr>\n",
       "      <th>4</th>\n",
       "      <td>5</td>\n",
       "      <td>310798465</td>\n",
       "      <td>163886075826274304</td>\n",
       "      <td>2012-01-30</td>\n",
       "      <td>Во Владимирской области прокуратура выявила ма...</td>\n",
       "      <td>302</td>\n",
       "    </tr>\n",
       "    <tr>\n",
       "      <th>...</th>\n",
       "      <td>...</td>\n",
       "      <td>...</td>\n",
       "      <td>...</td>\n",
       "      <td>...</td>\n",
       "      <td>...</td>\n",
       "      <td>...</td>\n",
       "    </tr>\n",
       "    <tr>\n",
       "      <th>599783</th>\n",
       "      <td>599784</td>\n",
       "      <td>394778880</td>\n",
       "      <td>780066326647681024</td>\n",
       "      <td>2016-09-25</td>\n",
       "      <td>#ua #news Полиция открыла производство по трем...</td>\n",
       "      <td>5908</td>\n",
       "    </tr>\n",
       "    <tr>\n",
       "      <th>599784</th>\n",
       "      <td>599785</td>\n",
       "      <td>394778880</td>\n",
       "      <td>780066325540409344</td>\n",
       "      <td>2016-09-25</td>\n",
       "      <td>#ua #news Убито иорданского писателя обвиняемо...</td>\n",
       "      <td>5908</td>\n",
       "    </tr>\n",
       "    <tr>\n",
       "      <th>599785</th>\n",
       "      <td>599786</td>\n",
       "      <td>998220474</td>\n",
       "      <td>780066044593307648</td>\n",
       "      <td>2016-09-25</td>\n",
       "      <td>#Экономика #Украина Расходы на стипендии увели...</td>\n",
       "      <td>1707</td>\n",
       "    </tr>\n",
       "    <tr>\n",
       "      <th>599786</th>\n",
       "      <td>599787</td>\n",
       "      <td>1841111274</td>\n",
       "      <td>780066041980334080</td>\n",
       "      <td>2016-09-25</td>\n",
       "      <td>#Украина Расходы на стипендии увеличили на бол...</td>\n",
       "      <td>8308</td>\n",
       "    </tr>\n",
       "    <tr>\n",
       "      <th>599787</th>\n",
       "      <td>599788</td>\n",
       "      <td>1841111274</td>\n",
       "      <td>780065984660901888</td>\n",
       "      <td>2016-09-25</td>\n",
       "      <td>#Украина Глава полиции Днепра рассказал о моти...</td>\n",
       "      <td>8308</td>\n",
       "    </tr>\n",
       "  </tbody>\n",
       "</table>\n",
       "<p>599788 rows × 6 columns</p>\n",
       "</div>"
      ],
      "text/plain": [
       "        Unnamed: 0      userid                twid        date  \\\n",
       "0                1   361219865  164056320016781312  2012-01-30   \n",
       "1                2   348949045  164054357061537792  2012-01-30   \n",
       "2                3   361973430  163934516925317120  2012-01-30   \n",
       "3                4   209135296  163930884087615488  2012-01-30   \n",
       "4                5   310798465  163886075826274304  2012-01-30   \n",
       "...            ...         ...                 ...         ...   \n",
       "599783      599784   394778880  780066326647681024  2016-09-25   \n",
       "599784      599785   394778880  780066325540409344  2016-09-25   \n",
       "599785      599786   998220474  780066044593307648  2016-09-25   \n",
       "599786      599787  1841111274  780066041980334080  2016-09-25   \n",
       "599787      599788  1841111274  780065984660901888  2016-09-25   \n",
       "\n",
       "                                                    lemma  num_tw  \n",
       "0       #Владимир #Путин #Приморский край Федерация пр...     160  \n",
       "1       #Владимир #Путин #Москва Путин  Take A Look Ar...       7  \n",
       "2       #владимир #россия Нтаталия 27 Женщина есть жен...   20336  \n",
       "3       Во #Владимир опять рвутся трубы две аварии в п...      10  \n",
       "4       Во Владимирской области прокуратура выявила ма...     302  \n",
       "...                                                   ...     ...  \n",
       "599783  #ua #news Полиция открыла производство по трем...    5908  \n",
       "599784  #ua #news Убито иорданского писателя обвиняемо...    5908  \n",
       "599785  #Экономика #Украина Расходы на стипендии увели...    1707  \n",
       "599786  #Украина Расходы на стипендии увеличили на бол...    8308  \n",
       "599787  #Украина Глава полиции Днепра рассказал о моти...    8308  \n",
       "\n",
       "[599788 rows x 6 columns]"
      ]
     },
     "execution_count": 284,
     "metadata": {},
     "output_type": "execute_result"
    }
   ],
   "source": [
    "train"
   ]
  },
  {
   "cell_type": "code",
   "execution_count": 280,
   "id": "f4ef52ff",
   "metadata": {},
   "outputs": [],
   "source": [
    "tfidf_vect = TfidfVectorizer(analyzer='word', token_pattern=r'\\w{1,}', max_features=5000)\n",
    "xtrain_tfidf =  tfidf_vect.fit_transform(train['lemma'])\n",
    "\n",
    "## add number of tweets per user as features \n",
    "xtrain_tfidf = np.hstack((xtrain_tfidf , np.array(train['num_tw'])[:,None].reshape(-1)))\n",
    "xtrain_tfidf = xtrain_tfidf[0]\n"
   ]
  },
  {
   "cell_type": "code",
   "execution_count": 286,
   "id": "d29c6a67",
   "metadata": {},
   "outputs": [],
   "source": [
    "y_pred = model.predict(xtrain_tfidf)"
   ]
  },
  {
   "cell_type": "code",
   "execution_count": 291,
   "id": "a0bd037a",
   "metadata": {},
   "outputs": [],
   "source": [
    "y_pred = pd.DataFrame(y_pred)"
   ]
  },
  {
   "cell_type": "code",
   "execution_count": 292,
   "id": "8f2ec7b5",
   "metadata": {},
   "outputs": [],
   "source": [
    "## write out predicting results \n",
    "y_pred.to_csv('classification_result.csv',index = False, header=True)"
   ]
  }
 ],
 "metadata": {
  "kernelspec": {
   "display_name": "Python 3",
   "language": "python",
   "name": "python3"
  },
  "language_info": {
   "codemirror_mode": {
    "name": "ipython",
    "version": 3
   },
   "file_extension": ".py",
   "mimetype": "text/x-python",
   "name": "python",
   "nbconvert_exporter": "python",
   "pygments_lexer": "ipython3",
   "version": "3.8.8"
  }
 },
 "nbformat": 4,
 "nbformat_minor": 5
}
