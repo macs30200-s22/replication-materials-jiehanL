{
 "cells": [
  {
   "cell_type": "markdown",
   "id": "a5e52c1e",
   "metadata": {},
   "source": [
    "# Scraping Tweets Using Twint"
   ]
  },
  {
   "cell_type": "markdown",
   "id": "001891b2",
   "metadata": {},
   "source": [
    "## Step 1: Import Packages"
   ]
  },
  {
   "cell_type": "code",
   "execution_count": 4,
   "id": "ce369a97",
   "metadata": {},
   "outputs": [],
   "source": [
    "import pandas as pd\n",
    "import twint\n",
    "import nest_asyncio\n",
    "nest_asyncio.apply()"
   ]
  },
  {
   "cell_type": "markdown",
   "id": "315d84db",
   "metadata": {},
   "source": [
    "## Step 2: Initialize Twint Scraper"
   ]
  },
  {
   "cell_type": "code",
   "execution_count": null,
   "id": "999e4e8f",
   "metadata": {},
   "outputs": [],
   "source": [
    "pip install --user --upgrade git+https://github.com/twintproject/twint.git@origin/master#egg=twint"
   ]
  },
  {
   "cell_type": "markdown",
   "id": "e3c23ce6",
   "metadata": {},
   "source": [
    "To make twint fully functioning, you will need to make this change locally:  \n",
    "uncomment line 92 in the **twint/url.py** file  \n",
    "#('query_source', 'typed_query')"
   ]
  },
  {
   "cell_type": "code",
   "execution_count": 14,
   "id": "4cc493fe",
   "metadata": {},
   "outputs": [],
   "source": [
    "search_keywords = [\"#россия\",\"#путин\",\"#владимир\",\"#крым\",\"#стpaна\",\n",
    "                   \"#Украина\",\"#новый\",\"#президент\",\"#Навальный\",\"#сша\",\n",
    "                   \"#россия\",\"#медведев\",\"#помощь\"]"
   ]
  },
  {
   "cell_type": "code",
   "execution_count": 15,
   "id": "8c9f8b4a",
   "metadata": {},
   "outputs": [
    {
     "name": "stdout",
     "output_type": "stream",
     "text": [
      "[!] No more data! Scraping will stop now.\n",
      "found 0 deleted tweets in this search.\n",
      "[!] No more data! Scraping will stop now.\n",
      "found 0 deleted tweets in this search.\n",
      "[!] No more data! Scraping will stop now.\n",
      "found 0 deleted tweets in this search.\n",
      "[!] No more data! Scraping will stop now.\n",
      "found 0 deleted tweets in this search.\n",
      "[!] No more data! Scraping will stop now.\n",
      "found 0 deleted tweets in this search.\n",
      "[!] No more data! Scraping will stop now.\n",
      "found 0 deleted tweets in this search.\n",
      "[!] No more data! Scraping will stop now.\n",
      "found 0 deleted tweets in this search.\n",
      "[!] No more data! Scraping will stop now.\n",
      "found 0 deleted tweets in this search.\n",
      "[!] No more data! Scraping will stop now.\n",
      "found 0 deleted tweets in this search.\n",
      "[!] No more data! Scraping will stop now.\n",
      "found 0 deleted tweets in this search.\n",
      "[!] No more data! Scraping will stop now.\n",
      "found 0 deleted tweets in this search.\n",
      "[!] No more data! Scraping will stop now.\n",
      "found 0 deleted tweets in this search.\n",
      "[!] No more data! Scraping will stop now.\n",
      "found 0 deleted tweets in this search.\n"
     ]
    }
   ],
   "source": [
    "for key in search_keywords:\n",
    "    c = twint.Config()\n",
    "    #Search for the desired hashtag\n",
    "    c.Search = key\n",
    "    #Specify start date\n",
    "    c.Since = \"2011-11-01\"\n",
    "    #Specify end date\n",
    "    c.Until = \"2012-02-01\"\n",
    "    #Store in a csv file\n",
    "    c.Store_csv = True\n",
    "    #Name the csv File\n",
    "    c.Output = key+\".csv\"\n",
    "    c.Hide_output = True\n",
    "    twint.run.Search(c)"
   ]
  },
  {
   "cell_type": "code",
   "execution_count": null,
   "id": "97233a33",
   "metadata": {},
   "outputs": [],
   "source": []
  }
 ],
 "metadata": {
  "kernelspec": {
   "display_name": "Python 3",
   "language": "python",
   "name": "python3"
  },
  "language_info": {
   "codemirror_mode": {
    "name": "ipython",
    "version": 3
   },
   "file_extension": ".py",
   "mimetype": "text/x-python",
   "name": "python",
   "nbconvert_exporter": "python",
   "pygments_lexer": "ipython3",
   "version": "3.8.8"
  }
 },
 "nbformat": 4,
 "nbformat_minor": 5
}
